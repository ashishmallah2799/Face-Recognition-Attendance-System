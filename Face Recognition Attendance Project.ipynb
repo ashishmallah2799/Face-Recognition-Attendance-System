{
 "cells": [
  {
   "cell_type": "markdown",
   "id": "120a714e",
   "metadata": {},
   "source": [
    "# Face Recognition Attendance Project\n"
   ]
  },
  {
   "cell_type": "markdown",
   "id": "64e58330",
   "metadata": {},
   "source": [
    "Importing all libraries"
   ]
  },
  {
   "cell_type": "code",
   "execution_count": 1,
   "id": "20612658",
   "metadata": {},
   "outputs": [],
   "source": [
    "import face_recognition as fr\n",
    "import cv2\n",
    "import pandas as pd\n",
    "import numpy as np\n",
    "import matplotlib.pyplot as plt\n",
    "import os\n",
    "from datetime import datetime"
   ]
  },
  {
   "cell_type": "markdown",
   "id": "b13a0a2f",
   "metadata": {},
   "source": [
    "Importing Image Data"
   ]
  },
  {
   "cell_type": "code",
   "execution_count": 2,
   "id": "a8413f34",
   "metadata": {},
   "outputs": [
    {
     "name": "stdout",
     "output_type": "stream",
     "text": [
      "['Ashish mallah.jpg', 'Bill gates.jpg', 'Elon musk.jpg', 'Ratan tata.jpg']\n",
      "['Ashish mallah', 'Bill gates', 'Elon musk', 'Ratan tata']\n"
     ]
    }
   ],
   "source": [
    "path = 'ImagesAttendance'\n",
    "Images = []\n",
    "ClassNames = []\n",
    "mylist = os.listdir(path)\n",
    "print(mylist)\n",
    "for cl in mylist:\n",
    "    curImg = cv2.imread(f'{path}/{cl}')\n",
    "    Images.append(curImg)\n",
    "    ClassNames.append(os.path.splitext(cl)[0])\n",
    "\n",
    "print(ClassNames)"
   ]
  },
  {
   "cell_type": "markdown",
   "id": "5c3d37d5",
   "metadata": {},
   "source": [
    "Image Encoding"
   ]
  },
  {
   "cell_type": "code",
   "execution_count": 3,
   "id": "c0cdfd36",
   "metadata": {},
   "outputs": [],
   "source": [
    "def findEncodings(Images):\n",
    "    encodeList = []\n",
    "    for img in Images:\n",
    "        img = cv2.cvtColor(img, cv2.COLOR_BGR2RGB)\n",
    "        encode = fr.face_encodings(img)[0]\n",
    "        encodeList.append(encode)\n",
    "    return encodeList"
   ]
  },
  {
   "cell_type": "code",
   "execution_count": 4,
   "id": "8e335bf7",
   "metadata": {},
   "outputs": [
    {
     "name": "stdout",
     "output_type": "stream",
     "text": [
      "Encoding Complete\n"
     ]
    }
   ],
   "source": [
    "encodeListKnown = findEncodings(Images)\n",
    "print(\"Encoding Complete\")"
   ]
  },
  {
   "cell_type": "markdown",
   "id": "bd9b90a9",
   "metadata": {},
   "source": [
    "Reading Csv file to store Attendance with name,time,date format."
   ]
  },
  {
   "cell_type": "code",
   "execution_count": 5,
   "id": "651d3d3d",
   "metadata": {},
   "outputs": [],
   "source": [
    "def MarkAttendance(name):\n",
    "    with open('Attendance.csv','r+') as f:\n",
    "        myDataList = f.readlines()\n",
    "        dateList = []\n",
    "        for line in myDataList:\n",
    "            entry = line.split(',')\n",
    "            dateList.append(entry[2])\n",
    "        if date not in dateList:\n",
    "            now = datetime.now()\n",
    "            dtString = now.strftime('%H:%M:%S')\n",
    "            dstr = now.strftime('%d/%m/%Y')\n",
    "            f.writelines(f'\\n{name},{dtString},{dstr}') "
   ]
  },
  {
   "cell_type": "markdown",
   "id": "f46b5206",
   "metadata": {},
   "source": [
    "Reading Image from Webcam and apply different face recognition techniques!"
   ]
  },
  {
   "cell_type": "code",
   "execution_count": null,
   "id": "b0c3d02b",
   "metadata": {
    "scrolled": true
   },
   "outputs": [],
   "source": [
    "cap = cv2.VideoCapture(0)\n",
    "\n",
    "while True:\n",
    "    success, img = cap.read()\n",
    "    imgS = cv2.resize(img,(0,0),None,0.25,0.25)\n",
    "    imgS - cv2.cvtColor(imgS, cv2.COLOR_BGR2RGB)\n",
    "    facesCurFrame = fr.face_locations(imgS)\n",
    "    encodesCurFrame = fr.face_encodings(imgS,facesCurFrame)\n",
    "    \n",
    "    for encodeFace, faceLoc in zip( encodesCurFrame,facesCurFrame):\n",
    "        matches = fr.compare_faces(encodeListKnown,encodeFace)\n",
    "        faceDis = fr.face_distance(encodeListKnown,encodeFace)\n",
    "        #print(faceDis)\n",
    "        matchIndex = np.argmin(faceDis)\n",
    "        \n",
    "        now = datetime.now()\n",
    "        date = now.strftime('%d/%m/%Y')\n",
    "        #print(date)\n",
    "        \n",
    "        if matches[matchIndex]:\n",
    "            name = ClassNames[matchIndex].upper()\n",
    "            #print(name)\n",
    "            y1,x2,y2,x1 = faceLoc\n",
    "            y1, x2, y2, x1 = y1*4, x2*4, y2*4, x1*4\n",
    "            cv2.rectangle(img,(x1,y1),(x2,y2),(0,255,0),2)\n",
    "            cv2.rectangle(img,(x1,y2-35),(x2,y2),(0,255,0),cv2.FILLED)\n",
    "            cv2.putText(img,name,(x1+6,y2-6),cv2.FONT_HERSHEY_COMPLEX,1,(255,255,255),2)\n",
    "            #cv2.putText(img,date,(x1+8,y2-8),cv2.FONT_HERSHEY_COMPLEX,1,(255,255,255),2)\n",
    "            MarkAttendance(name)\n",
    "            \n",
    "    cv2.imshow('Webcam',img)\n",
    "    cv2.waitKey(1)"
   ]
  },
  {
   "cell_type": "code",
   "execution_count": null,
   "id": "a8624573",
   "metadata": {},
   "outputs": [],
   "source": []
  },
  {
   "cell_type": "code",
   "execution_count": null,
   "id": "f40b7f92",
   "metadata": {},
   "outputs": [],
   "source": []
  }
 ],
 "metadata": {
  "kernelspec": {
   "display_name": "Python 3 (ipykernel)",
   "language": "python",
   "name": "python3"
  },
  "language_info": {
   "codemirror_mode": {
    "name": "ipython",
    "version": 3
   },
   "file_extension": ".py",
   "mimetype": "text/x-python",
   "name": "python",
   "nbconvert_exporter": "python",
   "pygments_lexer": "ipython3",
   "version": "3.9.7"
  }
 },
 "nbformat": 4,
 "nbformat_minor": 5
}
